{
 "cells": [
  {
   "cell_type": "code",
   "execution_count": 1,
   "metadata": {},
   "outputs": [],
   "source": [
    "import tensorflow as tf"
   ]
  },
  {
   "cell_type": "markdown",
   "metadata": {},
   "source": [
    "###### 常量变量"
   ]
  },
  {
   "cell_type": "code",
   "execution_count": 2,
   "metadata": {},
   "outputs": [
    {
     "name": "stdout",
     "output_type": "stream",
     "text": [
      "Tensor(\"Const:0\", shape=(), dtype=float32)\n",
      "<tf.Variable 'var:0' shape=() dtype=int32_ref>\n",
      "2.5\n",
      "10\n"
     ]
    }
   ],
   "source": [
    "data1=tf.constant(2.5)                  #常量\n",
    "# data11=tf.constant(2,dtype=tf.int32)\n",
    "data2=tf.Variable(10,name='var')        #变量 name:给变量起名字 （使用变量之前要先初始化）\n",
    "print(data1)\n",
    "print(data2)\n",
    "\n",
    "init=tf.global_variables_initializer()  #初始化变量\n",
    "sess=tf.Session()                       #创建 Session\n",
    "with sess:                              #用with管理器可以自动关闭session会话\n",
    "    print(sess.run(data1))\n",
    "    sess.run(init)\n",
    "    print(sess.run(data2))\n"
   ]
  },
  {
   "cell_type": "markdown",
   "metadata": {},
   "source": [
    "###### 四则运算"
   ]
  },
  {
   "cell_type": "code",
   "execution_count": 9,
   "metadata": {},
   "outputs": [
    {
     "name": "stdout",
     "output_type": "stream",
     "text": [
      "8\n",
      "12\n",
      "4\n",
      "3.0\n"
     ]
    }
   ],
   "source": [
    "data3=tf.constant(6)                          #常量\n",
    "data4=tf.constant(2)\n",
    "dataAdd=tf.add(data3,data4)                   #加\n",
    "dataMul=tf.multiply(data3,data4)              #乘\n",
    "dataSub=tf.subtract(data3,data4)              #减\n",
    "dataDiv=tf.divide(data3,data4)                #除\n",
    "\n",
    "with tf.Session() as sess:\n",
    "    print(sess.run(dataAdd))\n",
    "    print(sess.run(dataMul))\n",
    "    print(sess.run(dataSub))\n",
    "    print(sess.run(dataDiv))"
   ]
  },
  {
   "cell_type": "code",
   "execution_count": 2,
   "metadata": {},
   "outputs": [
    {
     "name": "stdout",
     "output_type": "stream",
     "text": [
      "8\n",
      "12\n",
      "4\n",
      "3.0\n",
      "sess.run(dataCopy) 8\n",
      "dataCopy.eval() 14\n",
      "tf.get_default_session() 20\n"
     ]
    }
   ],
   "source": [
    "data5=tf.constant(6)                          #变量\n",
    "data6=tf.Variable(2)\n",
    "dataAdd=tf.add(data5,data6)                   #加\n",
    "dataMul=tf.multiply(data5,data6)              #乘\n",
    "dataSub=tf.subtract(data5,data6)              #减\n",
    "dataDiv=tf.divide(data5,data6)                #除\n",
    "\n",
    "dataCopy=tf.assign(data6,dataAdd)             #将dataAdd的运算结果追加到data2中\n",
    "\n",
    "init=tf.global_variables_initializer()\n",
    "\n",
    "with tf.Session() as sess:\n",
    "    sess.run(init)\n",
    "    print(sess.run(dataAdd))\n",
    "    print(sess.run(dataMul))\n",
    "    print(sess.run(dataSub))\n",
    "    print(sess.run(dataDiv))\n",
    "    print('sess.run(dataCopy)',sess.run(dataCopy))    #8-->data6\n",
    "    print('dataCopy.eval()',dataCopy.eval())          #8+6-->14-->data6\n",
    "    print('tf.get_default_session()',tf.get_default_session().run(dataCopy))  #14+6"
   ]
  },
  {
   "cell_type": "code",
   "execution_count": 5,
   "metadata": {},
   "outputs": [
    {
     "name": "stdout",
     "output_type": "stream",
     "text": [
      "8.0\n"
     ]
    }
   ],
   "source": [
    "#placeholder（运算时追加数据）\n",
    "data11=tf.placeholder(tf.float32)\n",
    "data22=tf.placeholder(tf.float32)\n",
    "dataAdd=tf.add(data11,data22)\n",
    "\n",
    "with tf.Session() as sess:\n",
    "    print(sess.run(dataAdd,feed_dict={data11:6,data22:2}))      #feed_dict追加的数据"
   ]
  },
  {
   "cell_type": "markdown",
   "metadata": {},
   "source": [
    "###### 矩阵"
   ]
  },
  {
   "cell_type": "code",
   "execution_count": 6,
   "metadata": {},
   "outputs": [
    {
     "name": "stdout",
     "output_type": "stream",
     "text": [
      "[[24]]\n",
      "[[12 12]\n",
      " [12 12]]\n",
      "[[9 9]]\n",
      "[array([[24]]), array([[9, 9]])]\n"
     ]
    }
   ],
   "source": [
    "data1=tf.constant([[6,6]])\n",
    "data2=tf.constant([[2],[2]])\n",
    "data3=tf.constant([[3,3]])\n",
    "data4=tf.constant([[1,2],[3,4],[5,6]])\n",
    "\n",
    "mat0=tf.zeros([2,3])                    #0矩阵\n",
    "mat1=tf.ones([2,3])                     #全1矩阵\n",
    "mat3=tf.fill([2,3],15)                  #全是15的矩阵\n",
    "mat4=tf.linspace(0.0,2.0,11)            #tf中的linspace\n",
    "mat5=tf.random_uniform([2,3],-1,2)      #范围-1~2 2*3的随机矩阵\n",
    "\n",
    "matMul=tf.matmul(data1,data2)           #矩阵相乘（数学中）\n",
    "matMul2=tf.multiply(data1,data2)        #矩阵相乘（对应位置相乘）\n",
    "matAdd=tf.add(data1,data3)              #矩阵相加\n",
    "\n",
    "with tf.Session() as sess:\n",
    "    print(sess.run(matMul))\n",
    "    print(sess.run(matMul2))\n",
    "    print(sess.run(matAdd))\n",
    "    print(sess.run([matMul,matAdd]))    #一次打印多个结果"
   ]
  },
  {
   "cell_type": "code",
   "execution_count": null,
   "metadata": {},
   "outputs": [],
   "source": []
  }
 ],
 "metadata": {
  "kernelspec": {
   "display_name": "Python 3",
   "language": "python",
   "name": "python3"
  },
  "language_info": {
   "codemirror_mode": {
    "name": "ipython",
    "version": 3
   },
   "file_extension": ".py",
   "mimetype": "text/x-python",
   "name": "python",
   "nbconvert_exporter": "python",
   "pygments_lexer": "ipython3",
   "version": "3.6.7"
  }
 },
 "nbformat": 4,
 "nbformat_minor": 2
}
