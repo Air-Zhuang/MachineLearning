{
 "cells": [
  {
   "cell_type": "code",
   "execution_count": 1,
   "metadata": {},
   "outputs": [],
   "source": [
    "import cv2\n",
    "import numpy as np"
   ]
  },
  {
   "cell_type": "code",
   "execution_count": 2,
   "metadata": {},
   "outputs": [],
   "source": [
    "img=cv2.imread('../file/image0.jpg',1)\n",
    "imgInfo=img.shape                           #(547, 730, 3)\n",
    "height=imgInfo[0]\n",
    "width=imgInfo[1]\n",
    "mode=imgInfo[2]                             #每个像素点是由三个基本颜色颜色组成的"
   ]
  },
  {
   "cell_type": "markdown",
   "metadata": {},
   "source": [
    "###### 图片缩放"
   ]
  },
  {
   "cell_type": "code",
   "execution_count": null,
   "metadata": {},
   "outputs": [],
   "source": [
    "'''调用resize api实现等比例缩放'''\n",
    "dstHeight=int(height*0.5)\n",
    "dstWidth=int(width*0.5)\n",
    "'''cv2提供了 最近邻域插值 双线性插值 像素关系重采样 立方差值'''\n",
    "dst=cv2.resize(img,(dstWidth,dstHeight))     #直接调用api实现缩放。resize默认使用双线性插值\n",
    "cv2.imshow('Image',dst)\n",
    "cv2.waitKey(0)"
   ]
  },
  {
   "cell_type": "code",
   "execution_count": null,
   "metadata": {},
   "outputs": [],
   "source": [
    "'''调用warpAffine api实现图片缩放'''\n",
    "matScale=np.float32([[0.5,0,0],[0,0.5,0]])      #定义移位矩阵\n",
    "dst=cv2.warpAffine(img,matScale,(int(width/2),int(height/2))) #完成对当前矩阵的映射  1.当前矩阵 2.移位矩阵 3.生成的图片信息\n",
    "cv2.imshow('dst',dst)\n",
    "cv2.waitKey(0)"
   ]
  },
  {
   "cell_type": "code",
   "execution_count": null,
   "metadata": {},
   "outputs": [],
   "source": [
    "'''最近邻域插值 源码实现'''\n",
    "dstHeight=int(height/2)\n",
    "dstWidth=int(width/2)\n",
    "\n",
    "#生成一个图片的空白模板  3为rgb类型  uint8:0-255,因为img[x,y]读取出来的数一般为uint8类型 \n",
    "dstImage=np.zeros((dstHeight,dstWidth,3),np.uint8)\n",
    "for i in range(0,dstHeight):\n",
    "    for j in range(0,dstWidth):\n",
    "        iNew=int(i*(height*1.0/dstHeight))\n",
    "        jNew=int(j*(width*1.0/dstWidth))\n",
    "        dstImage[i,j]=img[iNew,jNew]\n",
    "cv2.imshow('dst',dstImage)\n",
    "cv2.waitKey(0)"
   ]
  },
  {
   "cell_type": "markdown",
   "metadata": {},
   "source": [
    "###### 图片剪切"
   ]
  },
  {
   "cell_type": "code",
   "execution_count": null,
   "metadata": {},
   "outputs": [],
   "source": [
    "dst=img[100:200,100:300]\n",
    "cv2.imshow('image',dst)\n",
    "cv2.waitKey(0)"
   ]
  },
  {
   "cell_type": "markdown",
   "metadata": {},
   "source": [
    "###### 图片位移"
   ]
  },
  {
   "cell_type": "code",
   "execution_count": null,
   "metadata": {},
   "outputs": [],
   "source": [
    "'''调用warpAffine api实现 水平方向移动100像素,竖直方向移动200像素'''\n",
    "matShift=np.float32([[1,0,100],[0,1,200]])      #定义移位矩阵\n",
    "dst=cv2.warpAffine(img,matShift,(height,width)) #完成对当前矩阵的映射  1.当前矩阵 2.移位矩阵 3.生成的图片信息\n",
    "cv2.imshow('dst',dst)\n",
    "cv2.waitKey(0)\n",
    "'''\n",
    "原理：\n",
    "偏移矩阵[[1,0,100],[0,1,200]]可以分解成 一个2*2 一个2*1\n",
    "[[1,0],[0,1]]  2*2  A\n",
    "[[100],[200]]  2*1  B\n",
    "目标 C 的 xy\n",
    "公式：A*C+B = [[1*x+0*y],[0*x+1*y]]+[[100],[200]]\n",
    "           = [[x+100],[y+200]]  -->  水平方向移动100像素,竖直方向移动200像素\n",
    "'''"
   ]
  },
  {
   "cell_type": "code",
   "execution_count": null,
   "metadata": {},
   "outputs": [],
   "source": [
    "'''源码实现'''\n",
    "dst=np.zeros(img.shape,np.uint8)\n",
    "for i in range(0,height):\n",
    "    for j in range(0,width-100):\n",
    "        dst[i,j+100]=img[i,j]\n",
    "cv2.imshow('image',dst)\n",
    "cv2.waitKey(0)"
   ]
  },
  {
   "cell_type": "markdown",
   "metadata": {},
   "source": [
    "###### 图片镜像"
   ]
  },
  {
   "cell_type": "code",
   "execution_count": null,
   "metadata": {},
   "outputs": [],
   "source": [
    "'''源码实现'''\n",
    "newImgInfo=(height*2,width,mode)               #新图片的信息\n",
    "dst=np.zeros(newImgInfo,np.uint8)\n",
    "for i in range(0,height):\n",
    "    for j in range(0,width):\n",
    "        dst[i,j]=img[i,j]\n",
    "        dst[height*2-i-1,j]=img[i,j]\n",
    "for i in range(0,width):                       #水平分割线\n",
    "    dst[height,i]=(0,0,255)                    #BGR\n",
    "cv2.imshow('dst',dst)\n",
    "cv2.waitKey(0)"
   ]
  },
  {
   "cell_type": "markdown",
   "metadata": {},
   "source": [
    "###### 图片拉伸变换"
   ]
  },
  {
   "cell_type": "code",
   "execution_count": null,
   "metadata": {},
   "outputs": [],
   "source": [
    "'''调用warpAffine api实现 图片仿射拉伸变换'''\n",
    "'''原理：将原图片(左上角 左下角 右上角)三个点映射到新图片上的三个位置上'''\n",
    "matSrc=np.float32([[0,0],[0,height-1],[width-1,0]])               #原图片左上角 左下角 右上角三个点的位置\n",
    "matDst=np.float32([[50,50],[300,height-200],[width-300,100]])     #目标图片左上角 左下角 右上角三个点的位置\n",
    "matAffine=cv2.getAffineTransform(matSrc,matDst)                   #得到一个矩阵组合(移位矩阵)\n",
    "dst=cv2.warpAffine(img,matAffine,(width,height))\n",
    "cv2.imshow('dst',dst)\n",
    "cv2.waitKey(0)"
   ]
  },
  {
   "cell_type": "markdown",
   "metadata": {},
   "source": [
    "###### 图片旋转"
   ]
  },
  {
   "cell_type": "code",
   "execution_count": null,
   "metadata": {},
   "outputs": [],
   "source": [
    "'''调用warpAffine api实现 图片旋转'''\n",
    "'''getRotationMatrix2D:得到一个旋转矩阵(移位矩阵)  参数：1.旋转的中心点 2.旋转的角度 3.缩放系数'''\n",
    "matRotate=cv2.getRotationMatrix2D((height*0.5,width*0.5),45,0.5)\n",
    "dst=cv2.warpAffine(img,matRotate,(height,width))\n",
    "cv2.imshow('dst',dst)\n",
    "cv2.waitKey(0)"
   ]
  },
  {
   "cell_type": "code",
   "execution_count": null,
   "metadata": {},
   "outputs": [],
   "source": []
  }
 ],
 "metadata": {
  "kernelspec": {
   "display_name": "Python 3",
   "language": "python",
   "name": "python3"
  },
  "language_info": {
   "codemirror_mode": {
    "name": "ipython",
    "version": 3
   },
   "file_extension": ".py",
   "mimetype": "text/x-python",
   "name": "python",
   "nbconvert_exporter": "python",
   "pygments_lexer": "ipython3",
   "version": "3.6.7"
  }
 },
 "nbformat": 4,
 "nbformat_minor": 2
}
