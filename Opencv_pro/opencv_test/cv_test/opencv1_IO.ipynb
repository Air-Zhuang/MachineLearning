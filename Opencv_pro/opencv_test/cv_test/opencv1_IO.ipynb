{
 "cells": [
  {
   "cell_type": "code",
   "execution_count": null,
   "metadata": {},
   "outputs": [],
   "source": [
    "import cv2"
   ]
  },
  {
   "cell_type": "code",
   "execution_count": null,
   "metadata": {},
   "outputs": [],
   "source": [
    "img=cv2.imread('../file/image0.jpg',1)      #图片的读取   0 黑白图片 1 彩色图片"
   ]
  },
  {
   "cell_type": "markdown",
   "metadata": {},
   "source": [
    "###### 展示图片"
   ]
  },
  {
   "cell_type": "code",
   "execution_count": null,
   "metadata": {},
   "outputs": [],
   "source": [
    "cv2.imshow('image',img)                     #图片展示  'image' 对话框的名称\n",
    "cv2.waitKey(0)                              #图片展示时间  数字为毫秒 0为一直展示"
   ]
  },
  {
   "cell_type": "markdown",
   "metadata": {},
   "source": [
    "###### 写入图片\n",
    "jpg png区别：1.jpg是有损压缩,png是无损压缩  2.png有透明度属性,jpg没有"
   ]
  },
  {
   "cell_type": "code",
   "execution_count": null,
   "metadata": {},
   "outputs": [],
   "source": [
    "#写入图片  IMWRITE_JPEG_QUALITY  为图片质量，100越高越好\n",
    "cv2.imwrite('../file/image1.jpg',img,[cv2.IMWRITE_JPEG_QUALITY,100])"
   ]
  },
  {
   "cell_type": "code",
   "execution_count": null,
   "metadata": {},
   "outputs": [],
   "source": [
    "#IMWRITE_PNG_COMPRESSION为压缩比 越低越好\n",
    "cv2.imwrite('../file/imageTest.png',img,[cv2.IMWRITE_PNG_COMPRESSION,0])"
   ]
  }
 ],
 "metadata": {
  "kernelspec": {
   "display_name": "Python 3",
   "language": "python",
   "name": "python3"
  },
  "language_info": {
   "codemirror_mode": {
    "name": "ipython",
    "version": 3
   },
   "file_extension": ".py",
   "mimetype": "text/x-python",
   "name": "python",
   "nbconvert_exporter": "python",
   "pygments_lexer": "ipython3",
   "version": "3.6.7"
  }
 },
 "nbformat": 4,
 "nbformat_minor": 2
}
