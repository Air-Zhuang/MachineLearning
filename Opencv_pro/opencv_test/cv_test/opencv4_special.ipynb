{
 "cells": [
  {
   "cell_type": "code",
   "execution_count": 1,
   "metadata": {},
   "outputs": [],
   "source": [
    "import cv2\n",
    "import numpy as np\n",
    "import random\n",
    "import math"
   ]
  },
  {
   "cell_type": "code",
   "execution_count": 4,
   "metadata": {},
   "outputs": [],
   "source": [
    "img=cv2.imread('../file/image0.jpg',1)\n",
    "imgInfo=img.shape                           #(547, 730, 3)\n",
    "height=imgInfo[0]\n",
    "width=imgInfo[1]\n",
    "mode=imgInfo[2]                             #每个像素点是由三个基本颜色颜色组成的"
   ]
  },
  {
   "cell_type": "markdown",
   "metadata": {},
   "source": [
    "###### 灰度处理"
   ]
  },
  {
   "cell_type": "code",
   "execution_count": null,
   "metadata": {},
   "outputs": [
    {
     "name": "stdout",
     "output_type": "stream",
     "text": [
      "(547, 730)\n",
      "(547, 730, 3)\n"
     ]
    }
   ],
   "source": [
    "'''方法1 通过imread实现图片灰度处理'''\n",
    "img0=cv2.imread('../file/image0.jpg',0)     #设置为0就是灰度图片\n",
    "img1=cv2.imread('../file/image0.jpg',1)\n",
    "print(img0.shape)\n",
    "print(img1.shape)\n",
    "cv2.imshow('src',img0)\n",
    "cv2.waitKey(0)"
   ]
  },
  {
   "cell_type": "code",
   "execution_count": null,
   "metadata": {},
   "outputs": [],
   "source": [
    "'''方法2 调用cvtColor api实现图片灰度处理'''\n",
    "dst=cv2.cvtColor(img,cv2.COLOR_BGR2GRAY)     #使用cvtColor将彩色图片转换为灰度图片\n",
    "cv2.imshow('dst',dst)\n",
    "cv2.waitKey(0)"
   ]
  },
  {
   "cell_type": "code",
   "execution_count": null,
   "metadata": {},
   "outputs": [],
   "source": [
    "'''方法3 源码实现'''\n",
    "'''原理：如果灰度图像也是rgb类型 那么R=G=B    灰度处理公式：(R+G+B)/3'''\n",
    "dst=np.zeros((height,width,3),np.uint8)\n",
    "for i in range(0,height):\n",
    "    for j in range(0,width):\n",
    "        (b,g,r)=img[i,j]\n",
    "        gray=(int(b)+int(g)+int(r))/3\n",
    "        dst[i,j]=np.uint8(gray)\n",
    "cv2.imshow('dst',dst)\n",
    "cv2.waitKey(0)"
   ]
  },
  {
   "cell_type": "code",
   "execution_count": null,
   "metadata": {},
   "outputs": [],
   "source": [
    "'''方法4 源码实现'''\n",
    "'''原理：心理学计算公式    灰度处理公式：gray=R*0.299+G*0.587+B*0.114'''\n",
    "dst=np.zeros((height,width,3),np.uint8)\n",
    "for i in range(0,height):\n",
    "    for j in range(0,width):\n",
    "        (b,g,r)=img[i,j]\n",
    "        b=int(b)\n",
    "        g=int(g)\n",
    "        b=int(b)\n",
    "        #gray=r*0.299+g*0.587+b*0.114        #算法优化之前\n",
    "        #gray=(r*1+g*2+b*1)/4                #算法优化之后\n",
    "        gray=(r+(g<<1)+b)>>2                 #算法优化2.0\n",
    "        dst[i,j]=np.uint8(gray)h\n",
    "cv2.imshow('dst',dst)\n",
    "cv2.waitKey(0)"
   ]
  },
  {
   "cell_type": "markdown",
   "metadata": {},
   "source": [
    "###### 颜色反转"
   ]
  },
  {
   "cell_type": "code",
   "execution_count": null,
   "metadata": {},
   "outputs": [],
   "source": [
    "'''公式：255-当前像素值'''\n",
    "'''源码实现：灰度图片颜色反转'''\n",
    "gray=cv2.cvtColor(img,cv2.COLOR_BGR2GRAY)\n",
    "dst=np.zeros((height,width,1),np.uint8)             #1表示灰度图片\n",
    "for i in range(0,height):\n",
    "    for j in range(0,width):\n",
    "        grayPixel=gray[i,j]\n",
    "        dst[i,j]=255-grayPixel\n",
    "cv2.imshow('dst',dst)\n",
    "cv2.waitKey(0)"
   ]
  },
  {
   "cell_type": "code",
   "execution_count": null,
   "metadata": {},
   "outputs": [],
   "source": [
    "'''源码实现：彩色图片颜色反转'''\n",
    "dst=np.zeros((height,width,3),np.uint8)             #1表示灰度图片\n",
    "for i in range(0,height):\n",
    "    for j in range(0,width):\n",
    "        (b,g,r)=img[i,j]\n",
    "        dst[i,j]=(255-b,255-g,255-r)\n",
    "cv2.imshow('dst',dst)\n",
    "cv2.waitKey(0)"
   ]
  },
  {
   "cell_type": "markdown",
   "metadata": {},
   "source": [
    "###### 马赛克"
   ]
  },
  {
   "cell_type": "code",
   "execution_count": null,
   "metadata": {},
   "outputs": [],
   "source": [
    "'''原理：挑选一个像素点，10*10的范围内的像素点都和这个相同'''\n",
    "'''源码实现：'''\n",
    "for m in range(100,300):\n",
    "    for n in range(100,200):\n",
    "        if m%10==0 and n%10==0:          #每隔10个宽高的矩形框选取一个像素\n",
    "            for i in range(0,10):\n",
    "                for j in range(0,10):\n",
    "                    (b,g,r)=img[m,n]\n",
    "                    img[i+m,j+n]=(b,g,r)\n",
    "cv2.imshow('dst',img)\n",
    "cv2.waitKey(0)"
   ]
  },
  {
   "cell_type": "markdown",
   "metadata": {},
   "source": [
    "###### 毛玻璃"
   ]
  },
  {
   "cell_type": "code",
   "execution_count": null,
   "metadata": {},
   "outputs": [],
   "source": [
    "'''原理：每个像素点周围随机的一个点来替换掉当前的像素点'''\n",
    "'''源码实现：'''\n",
    "dst=np.zeros((height,width,3),np.uint8)\n",
    "mm=8                                             #取8*8范围内的随机像素点\n",
    "for m in range(0,height-mm):                     #防止最后一个点取不到+8的像素点\n",
    "    for n in range(0,width-mm):\n",
    "        index=int(random.random()*mm)            #0-8之间随机数\n",
    "        (b,g,r)=img[m+index,n+index]             #选择像素点周围[0-8,0-8]随机的一个像素点\n",
    "        dst[m,n]=(b,g,r)\n",
    "cv2.imshow('dst',dst)\n",
    "cv2.waitKey(0)"
   ]
  },
  {
   "cell_type": "markdown",
   "metadata": {},
   "source": [
    "###### 图片融合"
   ]
  },
  {
   "cell_type": "code",
   "execution_count": null,
   "metadata": {},
   "outputs": [],
   "source": [
    "'''调用addWeighted api实现图片融合'''\n",
    "'''原理：公式：  dst：目标图片  src：原图片   dst=src1*a+src2*(1-a)'''\n",
    "img0=cv2.imread('../file/image0.jpg',1)\n",
    "img1=cv2.imread('../file/image1.jpg',1)\n",
    "imgInfo=img0.shape\n",
    "height=imgInfo[0]\n",
    "width=imgInfo[1]\n",
    "'''ROI：感兴趣的范围(高宽要比img0和img1都要小)'''\n",
    "roiH=int(height/2)\n",
    "roiW=int(width/2)\n",
    "img0ROI=img0[0:roiH,0:roiW]           #img0选取的区域\n",
    "img1ROI=img1[0:roiH,0:roiW]           #img1选取的区域\n",
    "dst=np.zeros((roiH,roiW,3),np.uint8)\n",
    "dst=cv2.addWeighted(img0ROI,0.5,img1ROI,0.5,0)   #两张图片融合 两个0.5分别对应每张图片的权重 0暂时不关心\n",
    "cv2.imshow('dst',dst)\n",
    "cv2.waitKey(0)"
   ]
  },
  {
   "cell_type": "markdown",
   "metadata": {},
   "source": [
    "###### 边缘检测"
   ]
  },
  {
   "cell_type": "code",
   "execution_count": null,
   "metadata": {},
   "outputs": [],
   "source": [
    "'''方法1：调用Canny api实现边缘检测'''\n",
    "'''过程：1.灰度处理 2.高斯滤波 3.调用canny方法'''\n",
    "gray=cv2.cvtColor(img,cv2.COLOR_BGR2GRAY)      #灰度处理\n",
    "imgG=cv2.GaussianBlur(gray,(3,3),0)            #高斯滤波处理 (3,3),0:模板大小 先暂定是这样\n",
    "'''50,50：门限   如果图片经过卷积之后的值大于门限，就认为是边缘点 '''\n",
    "dst=cv2.Canny(img,50,50)\n",
    "cv2.imshow('dst',dst)\n",
    "cv2.waitKey(0)"
   ]
  },
  {
   "cell_type": "code",
   "execution_count": null,
   "metadata": {},
   "outputs": [],
   "source": [
    "'''方法2：源码实现'''\n",
    "# sobel 1 算子模版 2 图片卷积 3 阈值判决 \n",
    "# [1 2 1          [ 1 0 -1\n",
    "#  0 0 0            2 0 -2\n",
    "# -1 -2 -1 ]       1 0 -1 ]\n",
    "              \n",
    "# [1 2 3 4] [a b c d] a*1+b*2+c*3+d*4 = dst\n",
    "# sqrt(a*a+b*b) = f>th\n",
    "gray = cv2.cvtColor(img,cv2.COLOR_BGR2GRAY)\n",
    "dst = np.zeros((height,width,1),np.uint8)\n",
    "for i in range(0,height-2):\n",
    "    for j in range(0,width-2):\n",
    "        gy = gray[i,j]*1+gray[i,j+1]*2+gray[i,j+2]*1-gray[i+2,j]*1-gray[i+2,j+1]*2-gray[i+2,j+2]*1\n",
    "        gx = gray[i,j]+gray[i+1,j]*2+gray[i+2,j]-gray[i,j+2]-gray[i+1,j+2]*2-gray[i+2,j+2]\n",
    "        grad = math.sqrt(gx*gx+gy*gy)\n",
    "        if grad>50:\n",
    "            dst[i,j] = 255\n",
    "        else:\n",
    "            dst[i,j] = 0\n",
    "cv2.imshow('dst',dst)\n",
    "cv2.waitKey(0)"
   ]
  },
  {
   "cell_type": "markdown",
   "metadata": {},
   "source": [
    "###### 浮雕效果"
   ]
  },
  {
   "cell_type": "code",
   "execution_count": null,
   "metadata": {},
   "outputs": [],
   "source": [
    "'''公式：新的像素值=相邻像素值之差+150(数值非固定)'''\n",
    "'''源码实现：'''\n",
    "gray = cv2.cvtColor(img,cv2.COLOR_BGR2GRAY)\n",
    "dst=np.zeros((height,width,1),np.uint8)           #1 新图片为灰度图片\n",
    "for i in range(0,height):\n",
    "    for j in range(0,width-1):\n",
    "        grayP0=int(gray[i,j])\n",
    "        grayP1=int(gray[i,j+1])\n",
    "        newP=grayP0-grayP1+150\n",
    "        if newP > 255:\n",
    "            newP=255\n",
    "        if newP < 0:\n",
    "            newP=0\n",
    "        dst[i,j]=newP\n",
    "cv2.imshow('dst',dst)\n",
    "cv2.waitKey(0)"
   ]
  },
  {
   "cell_type": "markdown",
   "metadata": {},
   "source": [
    "###### 颜色风格"
   ]
  },
  {
   "cell_type": "code",
   "execution_count": null,
   "metadata": {},
   "outputs": [],
   "source": [
    "'''公式(自定义)：b=b*1.5 g=g*1.3'''\n",
    "'''源码实现：'''\n",
    "dst=np.zeros((height,width,3),np.uint8)           #1 新图片为彩色图片\n",
    "for i in range(0,height):\n",
    "    for j in range(0,width):\n",
    "        (b,g,r)=img[i,j]\n",
    "        b=b*1.5\n",
    "        g=g*1.3\n",
    "        if b>255:\n",
    "            b=255\n",
    "        if g>255:\n",
    "            g=255\n",
    "        dst[i,j]=(b,g,r)\n",
    "cv2.imshow('dst',dst)\n",
    "cv2.waitKey(0)"
   ]
  },
  {
   "cell_type": "markdown",
   "metadata": {},
   "source": [
    "###### 油画特效"
   ]
  },
  {
   "cell_type": "code",
   "execution_count": null,
   "metadata": {},
   "outputs": [],
   "source": [
    "'''过程：\n",
    "1.灰度处理 2.将图片分割成若干个小方块，统计这些小方块中每一个像素的灰度值 \n",
    "3.将0-255的灰度值划分成几个等级，并把第二步处理的结果映射到这个范围内\n",
    "4.找到每个方块中灰度等级最多的所有的像素，求取这些像素的均值\n",
    "5.用统计出来的平均值来替代原来的像素值\n",
    "'''\n",
    "'''源码实现：'''\n",
    "img=cv2.imread('../file/image00.jpg',1)\n",
    "imgInfo=img.shape\n",
    "height=imgInfo[0]\n",
    "width=imgInfo[1]\n",
    "gray = cv2.cvtColor(img,cv2.COLOR_BGR2GRAY)\n",
    "dst=np.zeros((height,width,3),np.uint8)\n",
    "for i in range(4,height-4):\n",
    "    for j in range(4,width-4):\n",
    "        array1=np.zeros(8,np.uint8)\n",
    "        for m in range(-4,4):          #8*8的小方格\n",
    "            for n in range(-4,4):\n",
    "                p1=int(gray[i+m,j+n]/32)\n",
    "                array1[p1]=array1[p1]+1\n",
    "        currentMax=array1[0]\n",
    "        l=0\n",
    "        for k in range(0,8):\n",
    "            if currentMax<array1[k]:\n",
    "                currentMax=array1[k]\n",
    "                l=k\n",
    "        for m in range(-4,4):           #简化方法求均值\n",
    "            for n in range(-4,4):\n",
    "                if gray[i+m,j+n]>=(l*32) and gray[i+m,j+n]<=((l+1)*32):\n",
    "                    (b,g,r)=img[i+m,j+n]\n",
    "        dst[i,j]=(b,g,r)\n",
    "cv2.imshow('dst',dst)\n",
    "cv2.waitKey(0)        "
   ]
  },
  {
   "cell_type": "markdown",
   "metadata": {},
   "source": [
    "###### 线段绘制"
   ]
  },
  {
   "cell_type": "code",
   "execution_count": null,
   "metadata": {},
   "outputs": [],
   "source": [
    "newImageInfo=(500,500,3)                             #彩色图片\n",
    "dst=np.zeros(newImageInfo,np.uint8)\n",
    "'''绘制线段：api:line\n",
    "参数： 2.起始位置 3.终止位置 4.颜色 5.线段的宽度 6.线段的类型\n",
    "'''\n",
    "cv2.line(dst,(100,100),(400,400),(0,0,255))\n",
    "cv2.line(dst,(100,200),(400,200),(0,255,255),20)\n",
    "cv2.line(dst,(100,300),(400,300),(0,255,0),20,cv2.LINE_AA)\n",
    "\n",
    "cv2.line(dst,(200,150),(50,250),(25,100,255))       #绘制一个三角形\n",
    "cv2.line(dst,(50,250),(400,380),(255,100,255))\n",
    "cv2.line(dst,(400,380),(200,150),(255,100,255))\n",
    "cv2.imshow('dst',dst)\n",
    "cv2.waitKey(0) "
   ]
  },
  {
   "cell_type": "markdown",
   "metadata": {},
   "source": [
    "###### 矩形圆形任意多边形绘制"
   ]
  },
  {
   "cell_type": "code",
   "execution_count": null,
   "metadata": {},
   "outputs": [
    {
     "name": "stdout",
     "output_type": "stream",
     "text": [
      "(5, 2)\n",
      "(5, 1, 2)\n"
     ]
    }
   ],
   "source": [
    "newImageInfo=(500,500,3)\n",
    "dst=np.zeros(newImageInfo,np.uint8)\n",
    "'''绘制矩形：api:rectangle\n",
    "参数： 2.矩形左上角 3.矩形右下角 4.颜色 5.是否填充(-1：表示填充 >0：线条的宽度)'''\n",
    "cv2.rectangle(dst,(50,100),(200,300),(255,0,0),-1)\n",
    "'''绘制圆形：api:circle\n",
    "参数： 2.圆心 3.半径 4.颜色 5.是否填充(-1：表示填充 >0：线条的宽度)'''\n",
    "cv2.circle(dst,(250,250),(50),(0,255,0),2)\n",
    "'''绘制椭圆圆弧：api:ellipse\n",
    "参数： 2.圆心 3.长轴短轴 4.偏转角度 5.圆弧起始角度 6.圆弧终止角度 7.颜色 8.是否填充(-1：表示填充 >0：线条的宽度)'''\n",
    "cv2.ellipse(dst,(256,256),(150,100),0,0,180,(0,255,0),-1)\n",
    "'''绘制任意多边形：api:polylines'''\n",
    "points=np.array([[150,50],[140,140],[200,170],[250,250],[150,50]],np.int32)\n",
    "print(points.shape)\n",
    "points=points.reshape((-1,1,2))         #实现了维度转换\n",
    "print(points.shape)\n",
    "cv2.polylines(dst,[points],True,(0,255,255))        \n",
    "cv2.imshow('dst',dst)\n",
    "cv2.waitKey(0) "
   ]
  },
  {
   "cell_type": "markdown",
   "metadata": {},
   "source": [
    "###### 文字图片绘制"
   ]
  },
  {
   "cell_type": "code",
   "execution_count": null,
   "metadata": {},
   "outputs": [],
   "source": [
    "'''绘制文字：api:putText\n",
    "参数： 2.文字内容 3.起始位置 4.字体 5.字体大小 6.颜色 7.粗细 8.线条类型'''\n",
    "font=cv2.FONT_HERSHEY_SIMPLEX                           #定义一个简单文字\n",
    "cv2.rectangle(img,(200,100),(500,400),(0,255,0),3)      #定义一个矩形\n",
    "cv2.putText(img,'this is flower',(100,300),font,1,(200,100,255),2,cv2.LINE_AA)\n",
    "cv2.imshow('src',img)\n",
    "cv2.waitKey(0) "
   ]
  },
  {
   "cell_type": "code",
   "execution_count": null,
   "metadata": {},
   "outputs": [],
   "source": [
    "'''图片绘制'''\n",
    "height=int(img.shape[0]*0.2)\n",
    "width=int(img.shape[1]*0.2)\n",
    "imgResize=cv2.resize(img,(width,height))            #resize实现图像的等比例缩放\n",
    "for i in range(0,height):\n",
    "    for j in range(0,width):\n",
    "        img[i+200,j+350]=imgResize[i,j]\n",
    "cv2.imshow('src',img)\n",
    "cv2.waitKey(0) "
   ]
  },
  {
   "cell_type": "code",
   "execution_count": null,
   "metadata": {},
   "outputs": [],
   "source": []
  }
 ],
 "metadata": {
  "kernelspec": {
   "display_name": "Python 3",
   "language": "python",
   "name": "python3"
  },
  "language_info": {
   "codemirror_mode": {
    "name": "ipython",
    "version": 3
   },
   "file_extension": ".py",
   "mimetype": "text/x-python",
   "name": "python",
   "nbconvert_exporter": "python",
   "pygments_lexer": "ipython3",
   "version": "3.6.7"
  }
 },
 "nbformat": 4,
 "nbformat_minor": 2
}
