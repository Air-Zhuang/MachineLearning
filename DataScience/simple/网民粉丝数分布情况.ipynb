{
 "cells": [
  {
   "cell_type": "code",
   "execution_count": 1,
   "metadata": {},
   "outputs": [],
   "source": [
    "import pandas as pd\n",
    "import numpy as np \n",
    "import seaborn as sns\n",
    "import matplotlib.pyplot as plt\n",
    "import warnings\n",
    "import pymysql"
   ]
  },
  {
   "cell_type": "code",
   "execution_count": 2,
   "metadata": {},
   "outputs": [],
   "source": [
    "tag_list=[]\n",
    "db = pymysql.connect()\n",
    "cur = db.cursor()\n",
    "try:\n",
    "    cur.execute(\"select fans_num from netizens;\")\n",
    "    results = cur.fetchall()\n",
    "    for i in results:\n",
    "        tag_list.append(i[0])\n",
    "except Exception as e:\n",
    "    raise e\n",
    "finally:\n",
    "    db.close()"
   ]
  },
  {
   "cell_type": "code",
   "execution_count": 3,
   "metadata": {},
   "outputs": [
    {
     "name": "stdout",
     "output_type": "stream",
     "text": [
      "833096\n"
     ]
    }
   ],
   "source": [
    "print(len(tag_list))   #所有粉丝数量组成的列表"
   ]
  },
  {
   "cell_type": "code",
   "execution_count": 4,
   "metadata": {},
   "outputs": [],
   "source": [
    "score_list=tag_list\n",
    "bins=[0,5000,10000,15000,20000,25000,30000,99999999999]   #分区情况\n",
    "score_cat=pd.cut(score_list,bins=bins)                  #numpy类型分箱,返回一个Categories类型对象\n",
    "fans_series=pd.value_counts(score_cat)                  #Categories类型转换成Series类型"
   ]
  },
  {
   "cell_type": "code",
   "execution_count": 5,
   "metadata": {},
   "outputs": [
    {
     "name": "stdout",
     "output_type": "stream",
     "text": [
      "(0, 5000]               667950\n",
      "(5000, 10000]            60475\n",
      "(10000, 15000]           36008\n",
      "(30000, 99999999999]     34357\n",
      "(15000, 20000]           16664\n",
      "(20000, 25000]           10671\n",
      "(25000, 30000]            6826\n",
      "dtype: int64\n"
     ]
    }
   ],
   "source": [
    "print(fans_series)"
   ]
  },
  {
   "cell_type": "code",
   "execution_count": 25,
   "metadata": {
    "scrolled": true
   },
   "outputs": [
    {
     "data": {
      "text/html": [
       "<div>\n",
       "<style scoped>\n",
       "    .dataframe tbody tr th:only-of-type {\n",
       "        vertical-align: middle;\n",
       "    }\n",
       "\n",
       "    .dataframe tbody tr th {\n",
       "        vertical-align: top;\n",
       "    }\n",
       "\n",
       "    .dataframe thead th {\n",
       "        text-align: right;\n",
       "    }\n",
       "</style>\n",
       "<table border=\"1\" class=\"dataframe\">\n",
       "  <thead>\n",
       "    <tr style=\"text-align: right;\">\n",
       "      <th></th>\n",
       "      <th>粉丝数分区</th>\n",
       "      <th>数量</th>\n",
       "      <th>占总数百分比</th>\n",
       "    </tr>\n",
       "  </thead>\n",
       "  <tbody>\n",
       "    <tr>\n",
       "      <th>0</th>\n",
       "      <td>(0, 5000]</td>\n",
       "      <td>667950</td>\n",
       "      <td>NaN</td>\n",
       "    </tr>\n",
       "    <tr>\n",
       "      <th>1</th>\n",
       "      <td>(5000, 10000]</td>\n",
       "      <td>60475</td>\n",
       "      <td>NaN</td>\n",
       "    </tr>\n",
       "    <tr>\n",
       "      <th>2</th>\n",
       "      <td>(10000, 15000]</td>\n",
       "      <td>36008</td>\n",
       "      <td>NaN</td>\n",
       "    </tr>\n",
       "    <tr>\n",
       "      <th>3</th>\n",
       "      <td>(30000, 99999999999]</td>\n",
       "      <td>34357</td>\n",
       "      <td>NaN</td>\n",
       "    </tr>\n",
       "    <tr>\n",
       "      <th>4</th>\n",
       "      <td>(15000, 20000]</td>\n",
       "      <td>16664</td>\n",
       "      <td>NaN</td>\n",
       "    </tr>\n",
       "    <tr>\n",
       "      <th>5</th>\n",
       "      <td>(20000, 25000]</td>\n",
       "      <td>10671</td>\n",
       "      <td>NaN</td>\n",
       "    </tr>\n",
       "    <tr>\n",
       "      <th>6</th>\n",
       "      <td>(25000, 30000]</td>\n",
       "      <td>6826</td>\n",
       "      <td>NaN</td>\n",
       "    </tr>\n",
       "  </tbody>\n",
       "</table>\n",
       "</div>"
      ],
      "text/plain": [
       "                  粉丝数分区      数量 占总数百分比\n",
       "0             (0, 5000]  667950    NaN\n",
       "1         (5000, 10000]   60475    NaN\n",
       "2        (10000, 15000]   36008    NaN\n",
       "3  (30000, 99999999999]   34357    NaN\n",
       "4        (15000, 20000]   16664    NaN\n",
       "5        (20000, 25000]   10671    NaN\n",
       "6        (25000, 30000]    6826    NaN"
      ]
     },
     "execution_count": 25,
     "metadata": {},
     "output_type": "execute_result"
    }
   ],
   "source": [
    "df_fans=pd.DataFrame(columns=[\"粉丝数分区\",\"数量\",\"占总数百分比\"])\n",
    "df_fans[\"粉丝数分区\"]=fans_series.index\n",
    "df_fans[\"数量\"]=fans_series.values\n",
    "df_fans"
   ]
  },
  {
   "cell_type": "code",
   "execution_count": 26,
   "metadata": {},
   "outputs": [
    {
     "data": {
      "text/html": [
       "<div>\n",
       "<style scoped>\n",
       "    .dataframe tbody tr th:only-of-type {\n",
       "        vertical-align: middle;\n",
       "    }\n",
       "\n",
       "    .dataframe tbody tr th {\n",
       "        vertical-align: top;\n",
       "    }\n",
       "\n",
       "    .dataframe thead th {\n",
       "        text-align: right;\n",
       "    }\n",
       "</style>\n",
       "<table border=\"1\" class=\"dataframe\">\n",
       "  <thead>\n",
       "    <tr style=\"text-align: right;\">\n",
       "      <th></th>\n",
       "      <th>粉丝数分区</th>\n",
       "      <th>数量</th>\n",
       "      <th>占总数百分比</th>\n",
       "    </tr>\n",
       "  </thead>\n",
       "  <tbody>\n",
       "    <tr>\n",
       "      <th>0</th>\n",
       "      <td>(0, 5000]</td>\n",
       "      <td>667950</td>\n",
       "      <td>80.18%</td>\n",
       "    </tr>\n",
       "    <tr>\n",
       "      <th>1</th>\n",
       "      <td>(5000, 10000]</td>\n",
       "      <td>60475</td>\n",
       "      <td>7.26%</td>\n",
       "    </tr>\n",
       "    <tr>\n",
       "      <th>2</th>\n",
       "      <td>(10000, 15000]</td>\n",
       "      <td>36008</td>\n",
       "      <td>4.32%</td>\n",
       "    </tr>\n",
       "    <tr>\n",
       "      <th>3</th>\n",
       "      <td>(30000, 99999999999]</td>\n",
       "      <td>34357</td>\n",
       "      <td>4.12%</td>\n",
       "    </tr>\n",
       "    <tr>\n",
       "      <th>4</th>\n",
       "      <td>(15000, 20000]</td>\n",
       "      <td>16664</td>\n",
       "      <td>2.0%</td>\n",
       "    </tr>\n",
       "    <tr>\n",
       "      <th>5</th>\n",
       "      <td>(20000, 25000]</td>\n",
       "      <td>10671</td>\n",
       "      <td>1.28%</td>\n",
       "    </tr>\n",
       "    <tr>\n",
       "      <th>6</th>\n",
       "      <td>(25000, 30000]</td>\n",
       "      <td>6826</td>\n",
       "      <td>0.82%</td>\n",
       "    </tr>\n",
       "  </tbody>\n",
       "</table>\n",
       "</div>"
      ],
      "text/plain": [
       "                  粉丝数分区      数量  占总数百分比\n",
       "0             (0, 5000]  667950  80.18%\n",
       "1         (5000, 10000]   60475   7.26%\n",
       "2        (10000, 15000]   36008   4.32%\n",
       "3  (30000, 99999999999]   34357   4.12%\n",
       "4        (15000, 20000]   16664    2.0%\n",
       "5        (20000, 25000]   10671   1.28%\n",
       "6        (25000, 30000]    6826   0.82%"
      ]
     },
     "execution_count": 26,
     "metadata": {},
     "output_type": "execute_result"
    }
   ],
   "source": [
    "def foo(line):\n",
    "    items=(line/len(tag_list))*100\n",
    "    items=round(items,2)\n",
    "    return str(items) + '%'\n",
    "df_fans[\"占总数百分比\"]=df_fans[\"数量\"].apply(foo)\n",
    "df_fans"
   ]
  },
  {
   "cell_type": "code",
   "execution_count": null,
   "metadata": {},
   "outputs": [],
   "source": []
  }
 ],
 "metadata": {
  "kernelspec": {
   "display_name": "Python 3",
   "language": "python",
   "name": "python3"
  },
  "language_info": {
   "codemirror_mode": {
    "name": "ipython",
    "version": 3
   },
   "file_extension": ".py",
   "mimetype": "text/x-python",
   "name": "python",
   "nbconvert_exporter": "python",
   "pygments_lexer": "ipython3",
   "version": "3.6.7"
  }
 },
 "nbformat": 4,
 "nbformat_minor": 2
}
