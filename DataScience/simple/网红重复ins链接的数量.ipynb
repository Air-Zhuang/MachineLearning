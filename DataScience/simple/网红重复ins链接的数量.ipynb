{
 "cells": [
  {
   "cell_type": "code",
   "execution_count": 1,
   "metadata": {},
   "outputs": [],
   "source": [
    "import pymysql\n",
    "import collections"
   ]
  },
  {
   "cell_type": "code",
   "execution_count": 2,
   "metadata": {},
   "outputs": [
    {
     "name": "stdout",
     "output_type": "stream",
     "text": [
      "41680 20533 15639 181608\n",
      "259460\n"
     ]
    }
   ],
   "source": [
    "instagram_urls_0=[]  #manual ins链接列表\n",
    "instagram_urls_2=[]  #influence ins链接列表\n",
    "instagram_urls_3=[]  #sb ins链接列表\n",
    "instagram_urls_4=[]  #heep ins链接列表\n",
    "db = pymysql.connect()\n",
    "cur = db.cursor()\n",
    "try:\n",
    "    cur.execute('select source,JSON_EXTRACT(data, \"$.instagram_url\") from kols where JSON_EXTRACT(data, \"$.instagram_url\") is not null;')\n",
    "    results = cur.fetchall()\n",
    "    for i in results:\n",
    "        source = i[0]\n",
    "        url = i[1][1:-1]\n",
    "        if source=='0':\n",
    "            instagram_urls_0.append(url)\n",
    "        elif source=='2':\n",
    "            instagram_urls_2.append(url)\n",
    "        elif source=='3':\n",
    "            instagram_urls_3.append(url)\n",
    "        elif source=='4':\n",
    "            instagram_urls_4.append(url)\n",
    "except Exception as e:\n",
    "    raise e\n",
    "finally:\n",
    "    db.close()\n",
    "\n",
    "s_0=set(instagram_urls_0)\n",
    "s_2=set(instagram_urls_2)\n",
    "s_3=set(instagram_urls_3)\n",
    "s_4=set(instagram_urls_4)\n",
    "print(len(s_0),len(s_2),len(s_3),len(s_4))   #单独平台链接数量\n",
    "print(len(s_0)+len(s_2)+len(s_3)+len(s_4))   #总数"
   ]
  },
  {
   "cell_type": "code",
   "execution_count": 17,
   "metadata": {},
   "outputs": [
    {
     "name": "stdout",
     "output_type": "stream",
     "text": [
      "197247\n",
      "571\n"
     ]
    }
   ],
   "source": [
    "count=0\n",
    "# repeat_ins_url=[]\n",
    "l=list(list(s_3)+list(s_4))\n",
    "print(len(l))\n",
    "dict2=collections.Counter(l)\n",
    "d=dict2.most_common(len(l))\n",
    "for i in d:\n",
    "    if i[1]>1:\n",
    "        count+=1\n",
    "#         repeat_ins_url.append(i[0])\n",
    "print(count)\n",
    "# print(repeat_ins_url)"
   ]
  },
  {
   "cell_type": "code",
   "execution_count": 7,
   "metadata": {},
   "outputs": [
    {
     "name": "stdout",
     "output_type": "stream",
     "text": [
      "0.22%\n"
     ]
    }
   ],
   "source": [
    "items=(571/259460)*100\n",
    "items=round(items,2)\n",
    "print(str(items) + '%')"
   ]
  },
  {
   "cell_type": "code",
   "execution_count": null,
   "metadata": {},
   "outputs": [],
   "source": []
  }
 ],
 "metadata": {
  "kernelspec": {
   "display_name": "Python 3",
   "language": "python",
   "name": "python3"
  },
  "language_info": {
   "codemirror_mode": {
    "name": "ipython",
    "version": 3
   },
   "file_extension": ".py",
   "mimetype": "text/x-python",
   "name": "python",
   "nbconvert_exporter": "python",
   "pygments_lexer": "ipython3",
   "version": "3.6.7"
  }
 },
 "nbformat": 4,
 "nbformat_minor": 2
}
